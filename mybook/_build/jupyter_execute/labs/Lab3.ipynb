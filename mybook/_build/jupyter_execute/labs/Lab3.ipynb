{
 "cells": [
  {
   "cell_type": "markdown",
   "id": "877d528d-9c13-4ee0-947b-14c599227539",
   "metadata": {},
   "source": [
    "### Laboratory Task 3"
   ]
  },
  {
   "cell_type": "markdown",
   "id": "f306cc51-4bfc-4148-a475-b8230a38a4fd",
   "metadata": {},
   "source": [
    "**Name:** Karylle B. dela Cruz <br>\n",
    "**Section:** DS4A"
   ]
  },
  {
   "cell_type": "markdown",
   "id": "7c0733dc-bbf3-46df-984b-d89bb109e827",
   "metadata": {},
   "source": [
    "**Instruction:** Perform a forward and backward propagation in python using the inputs from Laboratory Task 2"
   ]
  },
  {
   "cell_type": "code",
   "execution_count": 1,
   "id": "e3bcf34d-dacf-4020-ad81-c035197eff34",
   "metadata": {},
   "outputs": [],
   "source": [
    "import numpy as np\n",
    "import warnings\n",
    "warnings.filterwarnings(\"ignore\")"
   ]
  },
  {
   "cell_type": "code",
   "execution_count": 2,
   "id": "e02984e1-0616-492c-8163-9b40ccb87133",
   "metadata": {},
   "outputs": [],
   "source": [
    "# Input and target\n",
    "x = np.array([1, 0, 1])\n",
    "y = np.array([1])\n",
    "\n",
    "# Learning rate\n",
    "lr = 0.001"
   ]
  },
  {
   "cell_type": "code",
   "execution_count": 3,
   "id": "6b970141-ceea-488a-adad-9528c95c3127",
   "metadata": {},
   "outputs": [],
   "source": [
    "# ReLU activation and derivative\n",
    "def relu(z):\n",
    "    return np.maximum(0, z)\n",
    "\n",
    "def relu_deriv(z):\n",
    "    return (z > 0).astype(float)"
   ]
  },
  {
   "cell_type": "code",
   "execution_count": 4,
   "id": "3711b6d5-750d-46dc-8be9-55500d6e51be",
   "metadata": {},
   "outputs": [],
   "source": [
    "# Initialize weights (from Task 2)\n",
    "W_hidden = np.array([[0.2, -0.3],\n",
    "                     [0.4,  0.1],\n",
    "                     [-0.5, 0.2]])   # shape (3,2)\n",
    "\n",
    "W_output = np.array([[-0.3],\n",
    "                     [-0.2]])        # shape (2,1)\n",
    "\n",
    "# Biases\n",
    "theta = np.array([-0.4, 0.2, 0.1])   # [θ1, θ2, θ3]"
   ]
  },
  {
   "cell_type": "markdown",
   "id": "261bccef-6529-46df-9780-76cab0f2d604",
   "metadata": {},
   "source": [
    "#### Forward Pass"
   ]
  },
  {
   "cell_type": "code",
   "execution_count": 5,
   "id": "dcf516bb-b10f-4ca9-bd1a-2c893290acc8",
   "metadata": {},
   "outputs": [
    {
     "name": "stdout",
     "output_type": "stream",
     "text": [
      "Forward pass prediction: [0.08]\n",
      "Loss: [0.4232]\n"
     ]
    }
   ],
   "source": [
    "# Hidden layer\n",
    "z_hidden = x @ W_hidden + theta[:2]   # (1x3) dot (3x2) + bias(2,)\n",
    "h = relu(z_hidden)                   # hidden activations\n",
    "\n",
    "# Output layer\n",
    "z_out = h @ W_output + theta[2]      # (1x2) dot (2x1) + bias\n",
    "y_hat = relu(z_out)\n",
    "\n",
    "# Compute loss (MSE)\n",
    "loss = 0.5 * (y - y_hat) ** 2\n",
    "print(\"Forward pass prediction:\", y_hat)\n",
    "print(\"Loss:\", loss)"
   ]
  },
  {
   "cell_type": "markdown",
   "id": "dc19bfe1-d9be-4949-adc4-407325fc8fba",
   "metadata": {},
   "source": [
    "#### Backward Pass"
   ]
  },
  {
   "cell_type": "code",
   "execution_count": 6,
   "id": "95f69623-436b-4c8d-9e5e-fd4f78cf96f3",
   "metadata": {},
   "outputs": [],
   "source": [
    "# Gradient at output\n",
    "dL_dyhat = y_hat - y        # dL/dy_hat\n",
    "dyhat_dzout = relu_deriv(z_out)\n",
    "dL_dzout = dL_dyhat * dyhat_dzout\n",
    "\n",
    "# Gradients for output weights and bias\n",
    "dL_dW_output = h.reshape(-1,1) * dL_dzout\n",
    "dL_dtheta3 = dL_dzout\n",
    "\n",
    "# Backprop to hidden layer\n",
    "dzout_dh = W_output.flatten()\n",
    "dL_dh = dL_dzout * dzout_dh\n",
    "dh_dz_hidden = relu_deriv(z_hidden)\n",
    "dL_dz_hidden = dL_dh * dh_dz_hidden\n",
    "\n",
    "# Gradients for hidden weights and biases\n",
    "dL_dW_hidden = np.outer(x, dL_dz_hidden)  # (3,2)\n",
    "dL_dtheta_hidden = dL_dz_hidden           # (2,)"
   ]
  },
  {
   "cell_type": "code",
   "execution_count": 7,
   "id": "feb96651-29bb-4495-a9a4-f6f2268d8b73",
   "metadata": {},
   "outputs": [
    {
     "name": "stdout",
     "output_type": "stream",
     "text": [
      "Updated W_hidden:\n",
      " [[ 0.2      -0.300184]\n",
      " [ 0.4       0.1     ]\n",
      " [-0.5       0.199816]]\n",
      "Updated W_output:\n",
      " [[-0.3     ]\n",
      " [-0.199908]]\n",
      "Updated theta: [-0.4       0.199816  0.10092 ]\n"
     ]
    }
   ],
   "source": [
    "# -------- Update weights --------\n",
    "W_output -= lr * dL_dW_output\n",
    "theta[2] -= lr * dL_dtheta3\n",
    "\n",
    "W_hidden -= lr * dL_dW_hidden\n",
    "theta[:2] -= lr * dL_dtheta_hidden\n",
    "\n",
    "print(\"Updated W_hidden:\\n\", W_hidden)\n",
    "print(\"Updated W_output:\\n\", W_output)\n",
    "print(\"Updated theta:\", theta)"
   ]
  },
  {
   "cell_type": "markdown",
   "id": "b2170c53-19cc-43f6-b430-74114ae46653",
   "metadata": {},
   "source": [
    "### End"
   ]
  }
 ],
 "metadata": {
  "kernelspec": {
   "display_name": "Python (DeepLearning)",
   "language": "python",
   "name": "deeplearning"
  },
  "language_info": {
   "codemirror_mode": {
    "name": "ipython",
    "version": 3
   },
   "file_extension": ".py",
   "mimetype": "text/x-python",
   "name": "python",
   "nbconvert_exporter": "python",
   "pygments_lexer": "ipython3",
   "version": "3.9.0"
  }
 },
 "nbformat": 4,
 "nbformat_minor": 5
}