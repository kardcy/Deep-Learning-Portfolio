{
 "cells": [
  {
   "cell_type": "markdown",
   "id": "4d745574-1441-4fd7-afc4-01f263658dc8",
   "metadata": {},
   "source": [
    "# Laboratory Task 4"
   ]
  },
  {
   "cell_type": "markdown",
   "id": "d79d18e8-d74c-47a3-8089-64a604fa61b6",
   "metadata": {},
   "source": [
    "**Name:** Karylle B. dela Cruz <br>\n",
    "**Section:** DS4A"
   ]
  },
  {
   "cell_type": "markdown",
   "id": "4c0aea4a-c79d-421b-8d79-413ba07ab9da",
   "metadata": {},
   "source": [
    "**Instruction:** Train a linear regression model in PyTorch using a regression dataset. Use the following parameters.\n",
    "\n",
    "- Criterion: MSE Loss\n",
    "- Fully Connected Layers x 2\n",
    "- Batch Size: 8\n",
    "- Optimizer: SGD\n",
    "- Epoch: 1000"
   ]
  },
  {
   "cell_type": "code",
   "execution_count": 1,
   "id": "c876ffe7-0647-4c79-b103-31202c0df05f",
   "metadata": {},
   "outputs": [],
   "source": [
    "import torch\n",
    "import numpy as np\n",
    "import sys\n",
    "import torch\n",
    "import torch.nn as nn\n",
    "import torch.optim as optim\n",
    "from torch.utils.data import DataLoader, TensorDataset"
   ]
  },
  {
   "cell_type": "code",
   "execution_count": 2,
   "id": "6ca63011-686a-4be9-a92c-ab8a69813fdf",
   "metadata": {},
   "outputs": [
    {
     "name": "stdout",
     "output_type": "stream",
     "text": [
      "Device:  cpu\n"
     ]
    }
   ],
   "source": [
    "device = torch.device(\"cuda:0\" if (torch.cuda.is_available()) else \"cpu\")\n",
    "print(\"Device: \", device)"
   ]
  },
  {
   "cell_type": "markdown",
   "id": "b41e38c1-d01b-4bcf-a542-7aa1e13f733d",
   "metadata": {},
   "source": [
    "1. Specifiying input and target"
   ]
  },
  {
   "cell_type": "code",
   "execution_count": 3,
   "id": "a768498d-e846-4b7f-abbe-d9e3908b28ca",
   "metadata": {},
   "outputs": [],
   "source": [
    "# Input (temp, rainfall, humidity)\n",
    "x_train = np.array([\n",
    "    [73, 67, 43], [91, 88, 64], [87, 134, 58], \n",
    "    [102, 43, 37], [69, 96, 70], [73, 67, 43], \n",
    "    [91, 88, 64], [87, 134, 58], [102, 43, 37], \n",
    "    [69, 96, 70], [73, 67, 43], [91, 88, 64], \n",
    "    [87, 134, 58], [102, 43, 37], [69, 96, 70],\n",
    "    [73, 67, 43], [91, 88, 64], [87, 134, 58], \n",
    "    [102, 43, 37], [69, 96, 70], [73, 67, 43], \n",
    "    [91, 88, 64], [87, 134, 58], [102, 43, 37], \n",
    "    [69, 96, 70]], dtype='float32')\n",
    "\n",
    "# Targets (apples, oranges)\n",
    "y_train = np.array([\n",
    "    [56, 70], [81, 101], [119, 133], \n",
    "    [22, 37], [103, 119], [56, 70], \n",
    "    [81, 101], [119, 133], [22, 37], \n",
    "    [103, 119], [56, 70], [81, 101], \n",
    "    [119, 133], [22, 37], [103, 119],\n",
    "    [56, 70], [81, 101], [119, 133], \n",
    "    [22, 37], [103, 119], [56, 70], \n",
    "    [81, 101], [119, 133], [22, 37], \n",
    "    [103, 119]], dtype='float32')\n",
    "inputs = torch.from_numpy(x_train)\n",
    "targets = torch.from_numpy(y_train)"
   ]
  },
  {
   "cell_type": "markdown",
   "id": "8aefe96b-53d9-4a35-9bcc-f5aba11b9bfe",
   "metadata": {},
   "source": [
    "2. Wrap into TensorDataset + DataLoader (batch size = 8)"
   ]
  },
  {
   "cell_type": "code",
   "execution_count": 4,
   "id": "ed4e93b6-ee0b-4516-8a11-d2df2d4277d8",
   "metadata": {},
   "outputs": [],
   "source": [
    "dataset = TensorDataset(inputs, targets)\n",
    "train_dl = DataLoader(dataset, batch_size=8, shuffle=True)"
   ]
  },
  {
   "cell_type": "markdown",
   "id": "e04fb004-ffe6-4377-b72a-fdc956e925ea",
   "metadata": {},
   "source": [
    "3. Define Model (Fully Connected Layers ×2)"
   ]
  },
  {
   "cell_type": "code",
   "execution_count": 5,
   "id": "23e53e8a-0f36-4609-987f-3be288832554",
   "metadata": {},
   "outputs": [],
   "source": [
    "model = nn.Sequential(\n",
    "    nn.Linear(3, 16),   # Input 3 → Hidden 16\n",
    "    nn.ReLU(),\n",
    "    nn.Linear(16, 2)    # Hidden 16 → Output 2\n",
    ").to(device)"
   ]
  },
  {
   "cell_type": "markdown",
   "id": "43c89895-ebfd-4cce-9970-f9a206d9fc26",
   "metadata": {},
   "source": [
    "4. Loss and Optimizer"
   ]
  },
  {
   "cell_type": "code",
   "execution_count": 6,
   "id": "915bdaf1-98f6-4fc3-8381-ceaef1ebca5e",
   "metadata": {},
   "outputs": [],
   "source": [
    "criterion = nn.MSELoss()\n",
    "optimizer = optim.SGD(model.parameters(), lr=0.01)"
   ]
  },
  {
   "cell_type": "markdown",
   "id": "b436e116-5899-42da-a415-c836a0f01247",
   "metadata": {},
   "source": [
    "5. Training Loop"
   ]
  },
  {
   "cell_type": "code",
   "execution_count": 7,
   "id": "5b252d58-af8e-4ba5-b9a6-a535711dd635",
   "metadata": {},
   "outputs": [],
   "source": [
    "def fit(num_epochs, model, criterion, optimizer, train_dl):\n",
    "    for epoch in range(num_epochs):\n",
    "        total_loss = 0\n",
    "        \n",
    "        for xb, yb in train_dl:\n",
    "            xb, yb = xb.to(device), yb.to(device)\n",
    "\n",
    "            # 1. Forward pass\n",
    "            pred = model(xb)\n",
    "            loss = criterion(pred, yb)\n",
    "\n",
    "            # 2. Backward pass\n",
    "            optimizer.zero_grad()\n",
    "            loss.backward()\n",
    "\n",
    "            # 3. Update weights\n",
    "            optimizer.step()\n",
    "\n",
    "            total_loss += loss.item()\n",
    "        \n",
    "        # Print progress every 100 epochs\n",
    "        if (epoch+1) % 100 == 0:\n",
    "            avg_loss = total_loss / len(train_dl)\n",
    "            print(f\"Epoch [{epoch+1}/{num_epochs}], Loss: {avg_loss:.4f}\")"
   ]
  },
  {
   "cell_type": "markdown",
   "id": "2f8959c5-c9a5-43ad-855a-ce54a0313c22",
   "metadata": {},
   "source": [
    "6. Train"
   ]
  },
  {
   "cell_type": "code",
   "execution_count": 8,
   "id": "ca939e73-2222-4b8e-8cda-067978edaba3",
   "metadata": {},
   "outputs": [
    {
     "name": "stdout",
     "output_type": "stream",
     "text": [
      "Epoch [100/1000], Loss: 1449.5766\n"
     ]
    },
    {
     "name": "stdout",
     "output_type": "stream",
     "text": [
      "Epoch [200/1000], Loss: 943.9511\n"
     ]
    },
    {
     "name": "stdout",
     "output_type": "stream",
     "text": [
      "Epoch [300/1000], Loss: 940.7460\n"
     ]
    },
    {
     "name": "stdout",
     "output_type": "stream",
     "text": [
      "Epoch [400/1000], Loss: 1078.4350\n"
     ]
    },
    {
     "name": "stdout",
     "output_type": "stream",
     "text": [
      "Epoch [500/1000], Loss: 940.7062\n"
     ]
    },
    {
     "name": "stdout",
     "output_type": "stream",
     "text": [
      "Epoch [600/1000], Loss: 1030.1152\n"
     ]
    },
    {
     "name": "stdout",
     "output_type": "stream",
     "text": [
      "Epoch [700/1000], Loss: 1499.2047\n"
     ]
    },
    {
     "name": "stdout",
     "output_type": "stream",
     "text": [
      "Epoch [800/1000], Loss: 1027.0570\n"
     ]
    },
    {
     "name": "stdout",
     "output_type": "stream",
     "text": [
      "Epoch [900/1000], Loss: 1349.1559\n"
     ]
    },
    {
     "name": "stdout",
     "output_type": "stream",
     "text": [
      "Epoch [1000/1000], Loss: 941.8099\n"
     ]
    }
   ],
   "source": [
    "fit(1000, model, criterion, optimizer, train_dl)"
   ]
  },
  {
   "cell_type": "markdown",
   "id": "bc5f3a15-c8f9-492d-9682-4acbbc29876a",
   "metadata": {},
   "source": [
    "7. Predictions"
   ]
  },
  {
   "cell_type": "code",
   "execution_count": 9,
   "id": "2a0d8f0d-b8d0-48f8-b427-15a57edd0fb3",
   "metadata": {},
   "outputs": [
    {
     "name": "stdout",
     "output_type": "stream",
     "text": [
      "Predictions:\n",
      " tensor([[76.6428, 92.4836],\n",
      "        [76.6428, 92.4836],\n",
      "        [76.6428, 92.4836],\n",
      "        [76.6428, 92.4836],\n",
      "        [76.6428, 92.4836],\n",
      "        [76.6428, 92.4836],\n",
      "        [76.6428, 92.4836],\n",
      "        [76.6428, 92.4836],\n",
      "        [76.6428, 92.4836],\n",
      "        [76.6428, 92.4836],\n",
      "        [76.6428, 92.4836],\n",
      "        [76.6428, 92.4836],\n",
      "        [76.6428, 92.4836],\n",
      "        [76.6428, 92.4836],\n",
      "        [76.6428, 92.4836],\n",
      "        [76.6428, 92.4836],\n",
      "        [76.6428, 92.4836],\n",
      "        [76.6428, 92.4836],\n",
      "        [76.6428, 92.4836],\n",
      "        [76.6428, 92.4836],\n",
      "        [76.6428, 92.4836],\n",
      "        [76.6428, 92.4836],\n",
      "        [76.6428, 92.4836],\n",
      "        [76.6428, 92.4836],\n",
      "        [76.6428, 92.4836]])\n",
      "Targets:\n",
      " tensor([[ 56.,  70.],\n",
      "        [ 81., 101.],\n",
      "        [119., 133.],\n",
      "        [ 22.,  37.],\n",
      "        [103., 119.],\n",
      "        [ 56.,  70.],\n",
      "        [ 81., 101.],\n",
      "        [119., 133.],\n",
      "        [ 22.,  37.],\n",
      "        [103., 119.],\n",
      "        [ 56.,  70.],\n",
      "        [ 81., 101.],\n",
      "        [119., 133.],\n",
      "        [ 22.,  37.],\n",
      "        [103., 119.],\n",
      "        [ 56.,  70.],\n",
      "        [ 81., 101.],\n",
      "        [119., 133.],\n",
      "        [ 22.,  37.],\n",
      "        [103., 119.],\n",
      "        [ 56.,  70.],\n",
      "        [ 81., 101.],\n",
      "        [119., 133.],\n",
      "        [ 22.,  37.],\n",
      "        [103., 119.]])\n"
     ]
    }
   ],
   "source": [
    "# Put the model in evaluation mode\n",
    "model.eval()\n",
    "\n",
    "# Example: predict on training data\n",
    "with torch.no_grad():\n",
    "    predictions = model(inputs)\n",
    "    print(\"Predictions:\\n\", predictions)\n",
    "    print(\"Targets:\\n\", targets)"
   ]
  },
  {
   "cell_type": "markdown",
   "id": "5546d6d8-2f47-4ad0-a8b0-1a0d4b335712",
   "metadata": {},
   "source": [
    "### End"
   ]
  }
 ],
 "metadata": {
  "kernelspec": {
   "display_name": "Python (DeepLearning)",
   "language": "python",
   "name": "deeplearning"
  },
  "language_info": {
   "codemirror_mode": {
    "name": "ipython",
    "version": 3
   },
   "file_extension": ".py",
   "mimetype": "text/x-python",
   "name": "python",
   "nbconvert_exporter": "python",
   "pygments_lexer": "ipython3",
   "version": "3.9.0"
  }
 },
 "nbformat": 4,
 "nbformat_minor": 5
}