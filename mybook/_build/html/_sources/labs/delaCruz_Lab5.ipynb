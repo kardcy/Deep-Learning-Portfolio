{
 "cells": [
  {
   "cell_type": "markdown",
   "id": "77911a6a-4e07-4668-b231-3ee4d828ef7b",
   "metadata": {},
   "source": [
    "### Laboratory Task 5"
   ]
  },
  {
   "cell_type": "markdown",
   "id": "6c74ace5-751e-4bdc-8b11-bbcfc50871ab",
   "metadata": {},
   "source": [
    "**Name:** Karylle B. dela Cruz <br>\n",
    "**Section:** DS4A"
   ]
  },
  {
   "cell_type": "markdown",
   "id": "cc91f70d-f9a4-4950-a630-c487690a3051",
   "metadata": {},
   "source": [
    "1. Perform Standard Imports"
   ]
  },
  {
   "cell_type": "code",
   "execution_count": 1,
   "id": "732226ee-e7a2-44ca-be87-c8fd66fed7b1",
   "metadata": {},
   "outputs": [],
   "source": [
    "import torch\n",
    "import numpy as np\n",
    "import sys"
   ]
  },
  {
   "cell_type": "markdown",
   "id": "d5caf5c9-8bfc-4d46-b108-fdb3761b101f",
   "metadata": {},
   "source": [
    "2. Create a function called set_seed() that accepts seed: int as a parameter, this function must return nothing but just set the seed to a certain value."
   ]
  },
  {
   "cell_type": "code",
   "execution_count": 2,
   "id": "3e6bd815-72dc-42ad-94b7-c23640623ed0",
   "metadata": {},
   "outputs": [],
   "source": [
    "def set_seed(seed):\n",
    "    torch.manual_seed(seed)\n",
    "    np.random.seed(seed)"
   ]
  },
  {
   "cell_type": "markdown",
   "id": "9f615e57-a5a0-4bd0-9046-ac97bdf1eca3",
   "metadata": {},
   "source": [
    "2. Create a function called set_seed() that accepts seed: int as a parameter, this function must return nothing but just set the seed to a certain value."
   ]
  },
  {
   "cell_type": "code",
   "execution_count": 3,
   "id": "d5470527-14c2-46d1-8f1a-f3a58f8d448b",
   "metadata": {
    "scrolled": true
   },
   "outputs": [
    {
     "name": "stdout",
     "output_type": "stream",
     "text": [
      "[3 4 2 4 4 1]\n",
      "int32\n"
     ]
    }
   ],
   "source": [
    "set_seed(42)\n",
    "arr = np.random.randint(0, 5, size=6)\n",
    "print(arr)\n",
    "print(arr.dtype)"
   ]
  },
  {
   "cell_type": "markdown",
   "id": "67b35a56-d43e-42e6-9f52-0018ae6bf022",
   "metadata": {},
   "source": [
    "4. Create a tensor \"x\" from the array above"
   ]
  },
  {
   "cell_type": "code",
   "execution_count": 4,
   "id": "b215ba1c-b2f2-4204-84aa-90b85c04428b",
   "metadata": {},
   "outputs": [
    {
     "data": {
      "text/plain": [
       "tensor([3, 4, 2, 4, 4, 1], dtype=torch.int32)"
      ]
     },
     "execution_count": 4,
     "metadata": {},
     "output_type": "execute_result"
    }
   ],
   "source": [
    "x = torch.from_numpy(arr)\n",
    "x"
   ]
  },
  {
   "cell_type": "markdown",
   "id": "d119a722-9af9-48bd-9b12-ae3cf31f08ca",
   "metadata": {},
   "source": [
    "5. Change the dtype of x from int32 to int64"
   ]
  },
  {
   "cell_type": "code",
   "execution_count": 5,
   "id": "6bfdab10-043b-4f14-b118-f85fec26716b",
   "metadata": {},
   "outputs": [
    {
     "name": "stdout",
     "output_type": "stream",
     "text": [
      "torch.int64\n"
     ]
    }
   ],
   "source": [
    "x = x.type(torch.int64)\n",
    "print(x.dtype)"
   ]
  },
  {
   "cell_type": "markdown",
   "id": "9166e3b7-dec1-443e-bd37-ccd99e651802",
   "metadata": {},
   "source": [
    "6. Reshape x into a 3x2 tensor"
   ]
  },
  {
   "cell_type": "code",
   "execution_count": 6,
   "id": "b7388abf-ebb1-4aae-bd6f-de13d450838c",
   "metadata": {},
   "outputs": [
    {
     "data": {
      "text/plain": [
       "tensor([[3, 4],\n",
       "        [2, 4],\n",
       "        [4, 1]])"
      ]
     },
     "execution_count": 6,
     "metadata": {},
     "output_type": "execute_result"
    }
   ],
   "source": [
    "x = x.reshape(3,2)\n",
    "x"
   ]
  },
  {
   "cell_type": "markdown",
   "id": "a28ba43d-bcfd-4489-83ad-af48f7689667",
   "metadata": {},
   "source": [
    "7. Return the right-hand column of tensor x"
   ]
  },
  {
   "cell_type": "code",
   "execution_count": 7,
   "id": "c9293f0f-2bdf-4de6-b239-787df2f22773",
   "metadata": {},
   "outputs": [
    {
     "data": {
      "text/plain": [
       "tensor([4, 4, 1])"
      ]
     },
     "execution_count": 7,
     "metadata": {},
     "output_type": "execute_result"
    }
   ],
   "source": [
    "x[:,1]"
   ]
  },
  {
   "cell_type": "markdown",
   "id": "91b7dc91-5ac4-4680-9b51-237df366006f",
   "metadata": {},
   "source": [
    "8. Without changing x, return a tensor of square values of x"
   ]
  },
  {
   "cell_type": "code",
   "execution_count": 8,
   "id": "25d85f05-d1fb-4efd-9a0a-02d1b01150bf",
   "metadata": {},
   "outputs": [
    {
     "name": "stdout",
     "output_type": "stream",
     "text": [
      "tensor([[ 9, 16],\n",
      "        [ 4, 16],\n",
      "        [16,  1]])\n"
     ]
    }
   ],
   "source": [
    "print(x.pow(2))"
   ]
  },
  {
   "cell_type": "markdown",
   "id": "8ddf99e0-8dbd-44d5-bf43-5501bf6b5561",
   "metadata": {},
   "source": [
    "9. Create a tensor y with the same number of elements as x, that can be matrix-multiplied with x"
   ]
  },
  {
   "cell_type": "code",
   "execution_count": 9,
   "id": "daaa81d2-979a-4156-afe2-2773f1a38b47",
   "metadata": {},
   "outputs": [
    {
     "data": {
      "text/plain": [
       "tensor([[2, 2, 1],\n",
       "        [4, 1, 0]])"
      ]
     },
     "execution_count": 9,
     "metadata": {},
     "output_type": "execute_result"
    }
   ],
   "source": [
    "set_seed(42)\n",
    "y = torch.randint(0, 5, (2,3))\n",
    "y"
   ]
  },
  {
   "cell_type": "markdown",
   "id": "fa561197-6c81-4186-9663-7ec5459da52a",
   "metadata": {},
   "source": [
    "10. Find the matrix product of x and y."
   ]
  },
  {
   "cell_type": "code",
   "execution_count": 11,
   "id": "24321177-6426-4390-981e-eaf2d91889b6",
   "metadata": {},
   "outputs": [
    {
     "name": "stdout",
     "output_type": "stream",
     "text": [
      "tensor([[22, 10,  3],\n",
      "        [20,  8,  2],\n",
      "        [12,  9,  4]])\n"
     ]
    }
   ],
   "source": [
    "print(x @ y)"
   ]
  },
  {
   "cell_type": "markdown",
   "id": "3f83c4cf-b2e7-4850-b0a6-a29c646c1b5c",
   "metadata": {},
   "source": [
    "### End"
   ]
  }
 ],
 "metadata": {
  "kernelspec": {
   "display_name": "Python (DeepLearning)",
   "language": "python",
   "name": "deeplearning"
  },
  "language_info": {
   "codemirror_mode": {
    "name": "ipython",
    "version": 3
   },
   "file_extension": ".py",
   "mimetype": "text/x-python",
   "name": "python",
   "nbconvert_exporter": "python",
   "pygments_lexer": "ipython3",
   "version": "3.9.0"
  }
 },
 "nbformat": 4,
 "nbformat_minor": 5
}
