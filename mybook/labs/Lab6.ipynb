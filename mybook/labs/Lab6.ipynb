{
 "cells": [
  {
   "cell_type": "markdown",
   "id": "8b9aaeed",
   "metadata": {},
   "source": [
    "# Laboratory Task 6"
   ]
  },
  {
   "cell_type": "markdown",
   "id": "f51e5d6e",
   "metadata": {},
   "source": [
    "**Name:** Karylle B. dela Cruz <br>\n",
    "**Section:** DS4A"
   ]
  },
  {
   "cell_type": "markdown",
   "id": "2613a91e",
   "metadata": {},
   "source": [
    "**Instructions:** Convert the following CNN architecture diagram into a PyTorch CNN Architecture."
   ]
  },
  {
   "cell_type": "markdown",
   "id": "44329679",
   "metadata": {},
   "source": [
    "![CNN](cnn.png)"
   ]
  },
  {
   "cell_type": "code",
   "execution_count": 3,
   "id": "13eada6c",
   "metadata": {},
   "outputs": [],
   "source": [
    "import torch\n",
    "import torch.nn as nn\n",
    "import torch.nn.functional as F\n",
    "from torch.utils.data import DataLoader\n",
    "from torchvision import datasets, transforms\n",
    "\n",
    "import random\n",
    "import numpy as np\n",
    "from sklearn.metrics import confusion_matrix, classification_report, accuracy_score\n",
    "import matplotlib.pyplot as plt"
   ]
  },
  {
   "cell_type": "code",
   "execution_count": 4,
   "id": "091658da",
   "metadata": {},
   "outputs": [
    {
     "name": "stderr",
     "output_type": "stream",
     "text": [
      "100.0%\n",
      "100.0%\n",
      "100.0%\n",
      "100.0%\n"
     ]
    }
   ],
   "source": [
    "transform = transforms.ToTensor()\n",
    "\n",
    "train_data = datasets.MNIST(root='data', train=True, download=True, transform=transform)\n",
    "test_data  = datasets.MNIST(root='data', train=False, download=True, transform=transform)"
   ]
  },
  {
   "cell_type": "code",
   "execution_count": 5,
   "id": "c39e9070",
   "metadata": {},
   "outputs": [],
   "source": [
    "train_set, val_set = torch.utils.data.random_split(train_data, [0.8, 0.2])"
   ]
  },
  {
   "cell_type": "code",
   "execution_count": 6,
   "id": "095b08e6",
   "metadata": {},
   "outputs": [],
   "source": [
    "def set_seed(seed):\n",
    "    np.random.seed(seed)\n",
    "    torch.manual_seed(seed)\n",
    "    random.seed(seed)\n",
    "\n",
    "set_seed(143)"
   ]
  },
  {
   "cell_type": "code",
   "execution_count": 7,
   "id": "a9ca77f9",
   "metadata": {},
   "outputs": [],
   "source": [
    "batch_size = 10\n",
    "train_loader = DataLoader(train_set, batch_size=batch_size, shuffle=True)\n",
    "val_loader = DataLoader(val_set, batch_size=batch_size, shuffle=True)\n",
    "test_loader = DataLoader(test_data, batch_size=batch_size, shuffle=False)"
   ]
  },
  {
   "cell_type": "markdown",
   "id": "838a6f3e",
   "metadata": {},
   "source": [
    "CNN Architecture"
   ]
  },
  {
   "cell_type": "code",
   "execution_count": 8,
   "id": "26ba032a",
   "metadata": {},
   "outputs": [],
   "source": [
    "class CNN(nn.Module):\n",
    "    def __init__(self):\n",
    "        super().__init__()\n",
    "        self.conv1 = nn.Conv2d(in_channels=1, out_channels=32, kernel_size=(3,3), stride=1, padding=1)\n",
    "        self.pool1 = nn.MaxPool2d(kernel_size=(2,2), stride=2, padding=0)\n",
    "\n",
    "        self.conv2 = nn.Conv2d(in_channels=32, out_channels=64, kernel_size=(3,3), stride=1, padding=1)\n",
    "        self.conv3 = nn.Conv2d(in_channels=64, out_channels=128, kernel_size=(3,3), stride=1, padding=1)\n",
    "        self.conv4 = nn.Conv2d(in_channels=128, out_channels=256, kernel_size=(3,3), stride=1, padding=1)\n",
    "        self.pool2 = nn.MaxPool2d(kernel_size=(2,2), stride=2, padding=0)\n",
    "\n",
    "        self.dropout = nn.Dropout(p=0.2)\n",
    "        self.flatten = nn.Flatten()\n",
    "\n",
    "        self.fcn1 = nn.Linear(256*7*7, 1000)\n",
    "        self.fcn2 = nn.Linear(1000, 500)\n",
    "        self.fcn3 = nn.Linear(500, 10)\n",
    "\n",
    "    def forward(self, x):\n",
    "        x = F.relu(self.conv1(x)) # shape = (1, 32, 28, 28)\n",
    "        x = self.pool1(x)         # shape = (32, 15, 15)\n",
    "        x = F.relu(self.conv2(x)) # shape = (32, 64, 15, 15)\n",
    "        x = F.relu(self.conv3(x)) # shape = (64, 128, 15, 15)\n",
    "        x = F.relu(self.conv4(x)) # shape = (128, 256, 15, 15)\n",
    "        x = self.pool2(x)         # shape = (256, 7, 7)\n",
    "        x = self.dropout(x)\n",
    "        x = self.flatten(x)\n",
    "        x = F.relu(self.fcn1(x))  # shape = (256*7*7, 1000)\n",
    "        x = F.relu(self.fcn2(x))  # shape = (1000, 500)\n",
    "        x = self.fcn3(x)          # shape = (500, 10)\n",
    "        return x"
   ]
  },
  {
   "cell_type": "markdown",
   "id": "e770773a",
   "metadata": {},
   "source": [
    "Training"
   ]
  },
  {
   "cell_type": "code",
   "execution_count": 9,
   "id": "ef2ff757",
   "metadata": {},
   "outputs": [
    {
     "name": "stdout",
     "output_type": "stream",
     "text": [
      "Epoch 1: Train Acc = 0.9509, Val Acc = 0.9772\n",
      "Epoch 2: Train Acc = 0.9806, Val Acc = 0.9870\n",
      "Epoch 3: Train Acc = 0.9853, Val Acc = 0.9834\n",
      "Epoch 4: Train Acc = 0.9875, Val Acc = 0.9868\n",
      "Epoch 5: Train Acc = 0.9898, Val Acc = 0.9888\n"
     ]
    }
   ],
   "source": [
    "device = torch.device('cuda' if torch.cuda.is_available() else 'cpu')\n",
    "model = CNN().to(device)\n",
    "criterion = nn.CrossEntropyLoss()\n",
    "optimizer = torch.optim.Adam(model.parameters(), lr=0.001)\n",
    "epochs = 5\n",
    "\n",
    "for epoch in range(epochs):\n",
    "    model.train()\n",
    "    train_corr = 0\n",
    "    for x_train, y_train in train_loader:\n",
    "        x_train, y_train = x_train.to(device), y_train.to(device)\n",
    "        \n",
    "        output = model(x_train)\n",
    "        loss = criterion(output, y_train)\n",
    "\n",
    "        optimizer.zero_grad()\n",
    "        loss.backward()\n",
    "        optimizer.step()\n",
    "\n",
    "        pred = output.argmax(dim=1)\n",
    "        train_corr += pred.eq(y_train).sum().item()\n",
    "\n",
    "    model.eval()\n",
    "    val_corr = 0\n",
    "    with torch.no_grad():\n",
    "        for x_val, y_val in val_loader:\n",
    "            x_val, y_val = x_val.to(device), y_val.to(device)\n",
    "\n",
    "            output = model(x_val)\n",
    "\n",
    "            pred = output.argmax(dim=1)\n",
    "            val_corr += pred.eq(y_val).sum().item()\n",
    "\n",
    "    train_acc = train_corr / len(train_set)\n",
    "    val_acc = val_corr / len(val_set)\n",
    "\n",
    "    print(f\"Epoch {epoch+1}: Train Acc = {train_acc:.4f}, Val Acc = {val_acc:.4f}\")"
   ]
  },
  {
   "cell_type": "markdown",
   "id": "890ef700",
   "metadata": {},
   "source": [
    "Testing"
   ]
  },
  {
   "cell_type": "code",
   "execution_count": 10,
   "id": "772d5bc4",
   "metadata": {},
   "outputs": [
    {
     "data": {
      "text/plain": [
       "array([[ 974,    0,    0,    0,    0,    0,    3,    2,    1,    0],\n",
       "       [   0, 1121,    2,    3,    0,    0,    1,    0,    8,    0],\n",
       "       [   0,    0, 1020,    0,    0,    0,    1,    8,    3,    0],\n",
       "       [   0,    0,    2, 1004,    0,    2,    0,    0,    2,    0],\n",
       "       [   1,    0,    0,    0,  954,    1,    4,    0,    2,   20],\n",
       "       [   0,    0,    0,    5,    0,  886,    1,    0,    0,    0],\n",
       "       [   5,    0,    1,    1,    0,    3,  945,    0,    3,    0],\n",
       "       [   0,    2,    1,    0,    0,    2,    0, 1020,    1,    2],\n",
       "       [   0,    0,    1,    2,    0,    2,    0,    0,  968,    1],\n",
       "       [   0,    1,    0,    0,    2,    9,    0,    3,    1,  993]])"
      ]
     },
     "execution_count": 10,
     "metadata": {},
     "output_type": "execute_result"
    }
   ],
   "source": [
    "true_labels = []\n",
    "pred_labels = []\n",
    "\n",
    "with torch.no_grad():\n",
    "    for b, (x_test, y_test) in enumerate(test_loader):\n",
    "        \n",
    "        x_test = x_test.to(device)\n",
    "        y_test = y_test.to(device)\n",
    "        \n",
    "        test_pred = model(x_test)\n",
    "        test_pred_vec = torch.max(test_pred.data, 1)[1]\n",
    "\n",
    "        true_labels.append(y_test)\n",
    "        pred_labels.append(test_pred_vec)\n",
    "\n",
    "true_labels = torch.cat(true_labels, dim=0)\n",
    "pred_labels = torch.cat(pred_labels, dim=0)\n",
    "\n",
    "confusion_matrix(true_labels.to('cpu'), pred_labels.to('cpu'))"
   ]
  }
 ],
 "metadata": {
  "kernelspec": {
   "display_name": "DeepLearning",
   "language": "python",
   "name": "python3"
  },
  "language_info": {
   "codemirror_mode": {
    "name": "ipython",
    "version": 3
   },
   "file_extension": ".py",
   "mimetype": "text/x-python",
   "name": "python",
   "nbconvert_exporter": "python",
   "pygments_lexer": "ipython3",
   "version": "3.9.0"
  }
 },
 "nbformat": 4,
 "nbformat_minor": 5
}
