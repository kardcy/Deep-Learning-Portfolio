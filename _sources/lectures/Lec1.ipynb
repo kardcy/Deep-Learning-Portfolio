{
 "cells": [
  {
   "cell_type": "markdown",
   "id": "d0afa6d2-ae71-4d48-9a00-cfa1e61c1c1a",
   "metadata": {},
   "source": [
    "# Lecture Task 1"
   ]
  },
  {
   "cell_type": "markdown",
   "id": "f9d3cf73-d58d-4a97-ba17-4b03b164a960",
   "metadata": {},
   "source": [
    "**Name:** Karylle B. dela Cruz <br>\n",
    "**Section:** DS4A"
   ]
  },
  {
   "cell_type": "markdown",
   "id": "b5458730-5c2b-4bd9-87d5-cbfa78448840",
   "metadata": {},
   "source": [
    "**Instruction:** Create a reaction paper (1 page) about the YouTube video titled \"Machine Learning: Living in the Age of AI | A WIRED Film\", submit this in pdf format."
   ]
  },
  {
   "cell_type": "markdown",
   "id": "5e3478c0-8cdf-47e4-8197-f4409c96acf8",
   "metadata": {},
   "source": [
    "[![Machine Learning: Living in the Age of AI | A WIRED Film](https://i.ytimg.com/vi/ZJixNvx9BAc/hq720.jpg?sqp=-oaymwEcCNAFEJQDSFXyq4qpAw4IARUAAIhCGAFwAcABBg==&rs=AOn4CLC2BCMXLS08rsO8o1LJzpXMjxOP9A)](https://www.youtube.com/watch?v=ZJixNvx9BAc)"
   ]
  },
  {
   "cell_type": "markdown",
   "id": "6adc4fd1-b41f-4727-92a2-82ed3ca13b7b",
   "metadata": {},
   "source": [
    "The rapid advancement of Artificial Intelligence has truly amazed me. I have seen how \n",
    "fast it is progressing, from improving basic human activities to transforming entire fields like \n",
    "healthcare and agriculture. Watching the video made me recognize the potential of AI in \n",
    "improving lives, from just a machine to something more empowering. \n",
    "\n",
    "\n",
    "For example, I found it inspiring that a student created an AI tool to more accurately \n",
    "target pancreatic tumors during radiotherapy. It made me reflect on how powerful AI can be \n",
    "when it is used to save lives. I was also touched by the story of a blind person using an AI\n",
    "powered app to recognize objects and people. It reminded me that technology is not just \n",
    "about efficiency. It can also give dignity, independence, and inclusivity to people who need \n",
    "it most. The examples of self-driving cars and their potential to help senior citizens resonated \n",
    "with me as well. I imagined how empowering it would be for someone who can no longer \n",
    "drive to regain their independence through AI. Similarly, I realized how important AI could be \n",
    "in agriculture, helping farmers with crop monitoring and fertilizer use. Coming from a country \n",
    "where agriculture is vital, I could clearly see how this could make farming more sustainable \n",
    "and productive. \n",
    "\n",
    "\n",
    "At the same time, I could not ignore the risks and ethical issues raised in the video. \n",
    "The mention of job displacement struck me because I know many people rely on farming \n",
    "and manual labor for their livelihoods. I also found the idea of “deepfakes” quite alarming, \n",
    "since it made me question how we can still trust what we see online. These challenges made \n",
    "me think that while AI brings hope, it also forces us to ask tough questions about privacy, \n",
    "fairness, and the future of work. \n",
    "\n",
    "\n",
    "In the end, the video left me with mixed feelings, both hopeful and cautious. I believe \n",
    "AI has incredible potential to improve lives, but it also demands responsibility and careful \n",
    "regulation. For me, the big takeaway is that we cannot just celebrate the benefits of AI \n",
    "without addressing its dangers. As someone living in a generation that will witness its full \n",
    "impact, I feel that it is important to stay critical, informed, and engaged in shaping how AI \n",
    "will define our future."
   ]
  }
 ],
 "metadata": {
  "kernelspec": {
   "display_name": "Python (DeepLearning)",
   "language": "python",
   "name": "deeplearning"
  },
  "language_info": {
   "codemirror_mode": {
    "name": "ipython",
    "version": 3
   },
   "file_extension": ".py",
   "mimetype": "text/x-python",
   "name": "python",
   "nbconvert_exporter": "python",
   "pygments_lexer": "ipython3",
   "version": "3.9.0"
  }
 },
 "nbformat": 4,
 "nbformat_minor": 5
}
